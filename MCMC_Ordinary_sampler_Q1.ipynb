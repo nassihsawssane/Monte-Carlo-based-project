{
 "cells": [
  {
   "cell_type": "markdown",
   "metadata": {},
   "source": [
    "Ce notebook répond à la **première question** du projet. En suivant les directives de l'expérience dde l'article, on implémente l'algorithme Metropolis-Hastings en respectant les guidelines fournies. Oncommence par l'utilisation de données simulées, puis on étend l'analyse à des données réelles. Ces données réelles sont des rendements logarithmiques des taux de change, dont la source est donnée ci-après."
   ]
  },
  {
   "cell_type": "code",
   "execution_count": null,
   "metadata": {},
   "outputs": [],
   "source": [
    "import numpy as np\n",
    "import matplotlib.pyplot as plt\n",
    "from arch.univariate import GARCH, ZeroMean\n",
    "import pandas as pd \n",
    "from math import log \n",
    "from sklearn.linear_model import LinearRegression\n",
    "from sklearn.linear_model import Lasso\n",
    "from sklearn.model_selection import train_test_split\n",
    "from sklearn.preprocessing import StandardScaler\n",
    "from sklearn.model_selection import KFold\n",
    "import statsmodels.api as sm"
   ]
  },
  {
   "cell_type": "markdown",
   "metadata": {},
   "source": [
    "## Echantillonnage des données simulées selon un modèle GARCH(1,1)  "
   ]
  },
  {
   "cell_type": "code",
   "execution_count": null,
   "metadata": {},
   "outputs": [],
   "source": [
    "\n",
    "np.random.seed(12345)\n",
    "\n",
    "n = 1000        # n le nombre d'observations à générer\n",
    "n1 = 100        # n1 est le nombre des observations premières qu'on supprime de l'échantillon \n",
    "n2 = n + n1     # n2 est le nombre de simulations total\n",
    "\n",
    "# Les paramètres de GARCH(1,1)\n",
    "omega = 0.1\n",
    "alpha = 0.2   \n",
    "beta = 0.7\n",
    "\n",
    "errors = np.random.normal(0,1,n2) \n",
    "h2 = np.zeros(n2)\n",
    "r = np.zeros(n2)\n",
    "h2[0] = omega\n",
    "\n",
    "for i in range(1,n2-1): \n",
    "    h2[i] = omega + alpha*h2[i-1]*errors[i-1]**2 + beta*h2[i-1]\n",
    "    r[i] = np.sqrt(h2[i])*errors[i]\n",
    "\n",
    "h = h2[n1-1:-1]\n",
    "y = r[n1-1:-1]    # On élimine les premières observations\n",
    "\n",
    "plt.figure(figsize=(10, 5))\n",
    "plt.title('GARCH (1,1) process')\n",
    "x = range(n) \n",
    "plt.plot(x,y)\n",
    "plt.grid(True)\n",
    "plt.show()"
   ]
  },
  {
   "cell_type": "markdown",
   "metadata": {},
   "source": [
    "## Récupération des données réelles \n",
    "\n",
    "On calcule la transformation logarithmique du taux de change Euro/US Dollar journalier sur la période entre 24/04/2021 et 24/04/2024.\n",
    "\n",
    "Source : https://www.investing.com/currencies/eur-usd-historical-data"
   ]
  },
  {
   "cell_type": "code",
   "execution_count": null,
   "metadata": {},
   "outputs": [],
   "source": [
    "Prix = pd.read_csv(\"EUR_USD Historical Data.csv\")['Price']\n",
    "r = []\n",
    "for i in range(len(Prix)-1) :\n",
    "    r.append(log(Prix[i+1]/ Prix[i])*100)\n",
    "\n",
    "plt.figure(figsize=(10, 5))\n",
    "plt.title('Daily Logarithmic Returns of EURO/USD')\n",
    "x = range(len(r)) \n",
    "plt.plot(x,r)\n",
    "plt.grid(True)\n",
    "plt.show()"
   ]
  }
 ],
 "metadata": {
  "language_info": {
   "name": "python"
  }
 },
 "nbformat": 4,
 "nbformat_minor": 2
}
