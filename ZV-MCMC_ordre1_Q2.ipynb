{
 "cells": [
  {
   "cell_type": "markdown",
   "metadata": {},
   "source": [
    "# First order ZV-MCMC estimates"
   ]
  },
  {
   "cell_type": "markdown",
   "metadata": {},
   "source": [
    "Ce notebook répond à **deuxième question** du projet.\n",
    "\n",
    "Avec la méthode Ordinary-MCMC, nous avons déterminé l'estimateur en approximant l'espérance du vecteur de paramètres cible $ \\boldsymbol{\\omega} = (\\omega_1, \\omega_2, \\omega_3) $ en fonction des données par une moyenne empirique sur 2000 itérations.\n",
    "\n",
    "La méthode Zero-Variance Markov Chain Monte Carlo (ZV-MCMC) consiste à réduire l'erreur MCMC en remplaçant directement $ \\boldsymbol{\\omega} $ par un vecteur $ \\tilde{\\boldsymbol{\\omega}} $ obtenu en rénormalisant correctement $ \\boldsymbol{\\omega} $. En suivant les directives de l'article, nous introduisons un polynôme de premier degré pour construire $ \\tilde{\\boldsymbol{\\omega}} $, de telle sorte que son espérance soit égale à $ \\mathbb{E}[\\boldsymbol{\\omega}] $, mais sa variance soit beaucoup plus petite.\n",
    "\n",
    "**Procédure ZV-MCMC :**\n",
    "\n",
    "- *Première étape* : Utilisation d'une courte simulation MCMC (2000 itérations) pour estimer les coefficients des variables de contrôle.\n",
    "\n",
    "- *Deuxième étape* : Utilisation d'une longue simulation MCMC (10000 itérations) pour estimer la moyenne postérieure de chaque paramètre sous la forme rénormalisée en introduisant les variables de contrôle.\n"
   ]
  },
  {
   "cell_type": "markdown",
   "metadata": {},
   "source": [
    "## Importation des librairies  "
   ]
  },
  {
   "cell_type": "code",
   "execution_count": null,
   "metadata": {},
   "outputs": [],
   "source": [
    "! pip install import-ipynb\n",
    "! pip install ipynb\n",
    "! pip install arch\n",
    "! pip install numpy \n",
    "! pip install matplotlib\n",
    "! pip install scikit-learn"
   ]
  },
  {
   "cell_type": "code",
   "execution_count": 7,
   "metadata": {},
   "outputs": [],
   "source": [
    "import numpy as np\n",
    "import matplotlib.pyplot as plt\n",
    "from arch.univariate import GARCH, ZeroMean\n",
    "import pandas as pd \n",
    "from math import log \n",
    "from sklearn.linear_model import LinearRegression\n",
    "from sklearn.linear_model import Lasso\n",
    "from sklearn.model_selection import train_test_split\n",
    "from sklearn.preprocessing import StandardScaler\n",
    "from sklearn.model_selection import KFold\n",
    "import statsmodels.api as sm\n",
    "import pickle"
   ]
  },
  {
   "cell_type": "markdown",
   "metadata": {},
   "source": [
    "## Expressions des variables de contrôle de premier ordre"
   ]
  },
  {
   "cell_type": "markdown",
   "metadata": {},
   "source": [
    "Dans cette partie, nous présentons deux méthodes pour calculer les expressions des variables de contrôle de premier ordre utilisées dans la méthode ZV-MCMC.   "
   ]
  },
  {
   "cell_type": "markdown",
   "metadata": {},
   "source": [
    "L'expression d'une variable de contrôle $ z_i $ avec $ i $ appartenant à $ {1, 2, 3\\} est donnée par :\n",
    "$$\n",
    "\\frac{\\partial \\ln \\pi}{\\partial \\omega_i} = \\frac{\\omega_i}{2\\sigma^2(\\omega_i)} + \\frac{1}{4} \\sum_{t=1}^{T} \\frac{1}{h_t} \\frac{\\partial h_t}{\\partial \\omega_i} - \\frac{1}{4} \\sum_{t=1}^{T} \\frac{r_t^2}{h_t^2} \\frac{\\partial h_t}{\\partial \\omega_i}, \\quad i = 1, 2, 3,\n",
    "$$\n"
   ]
  },
  {
   "cell_type": "markdown",
   "metadata": {},
   "source": [
    "### première méthode"
   ]
  },
  {
   "cell_type": "code",
   "execution_count": null,
   "metadata": {},
   "outputs": [],
   "source": [
    "def calcul_z_1(echant, r, var_emp):\n",
    "    \"\"\"\n",
    "    Calcule les expressions des variables de contrôle z1, z2 et z3.\n",
    "\n",
    "    Args:\n",
    "        echant (array): échantillons des paramètres du vecteur omega.\n",
    "        r (array): Données des rendements.\n",
    "        variances_empiriques (array): Liste des variances empiriques estimées pour omega_1, omega_2 et omega_3.\n",
    "\n",
    "    Returns:\n",
    "        array: une matrice où les variables z_1, z_2, et z_3 sont empilées en colonnes.\n",
    "    \"\"\"\n",
    "    Z1 = 0\n",
    "    Z2 = 0\n",
    "    Z3 = 0\n",
    "    \n",
    "    # Initialisation des dérivées partielles de h par rapport à omega_1, omega_2 et omega_3\n",
    "    dht_domega1 = 0  \n",
    "    dht_domega2 = 0  \n",
    "    dht_domega3 = 0  \n",
    "\n",
    "    for i in range(1, len(r)):\n",
    "        r_t = r[i]    # Rendement à l'instant t\n",
    "        r_previous = r[i - 1]  # Rendement à l'instant t-1 \n",
    "        h = 0    \n",
    "        if i == 1:\n",
    "            # Calcul de Z1 pour le premier élément de la somme\n",
    "            Z1 += (1 - echant[2]) / (1 - echant[2]) * (-(0.5 / h) + (0.5 * r_t ** 2) / (h ** 2))\n",
    "            # Calcul de Z2 et Z3\n",
    "            Z2 += dht_domega2 * (-(0.5 / h) + (0.5 * r_t ** 2) / (h ** 2))\n",
    "            Z3 += dht_domega3 * (-(0.5 / h) + (0.5 * r_t ** 2) / (h ** 2))\n",
    "        else:\n",
    "            dht_domega1 = r_previous ** 2 + echant[2] * dht_domega1\n",
    "            dht_domega2 = h + echant[2] * dht_domega2\n",
    "            dht_domega3 = h + echant[2] * dht_domega3\n",
    "            # Mise à jour de h\n",
    "            h = echant[0] + echant[1] * r_previous ** 2 + echant[2] * h\n",
    "            # Calcul des sommes Z1, Z2 et Z3\n",
    "            Z1 += dht_domega1 * (-(0.5 / h) + (0.5 * r_t ** 2) / (h ** 2))\n",
    "            Z2 += dht_domega2 * (-(0.5 / h) + (0.5 * r_t ** 2) / (h ** 2))\n",
    "            Z3 += dht_domega3 * (-(0.5 / h) + (0.5 * r_t ** 2) / (h ** 2))\n",
    "\n",
    "    Z1 = -0.5 * (-echant[0] / var_emp[0] + Z1)\n",
    "    Z2 = -0.5 * (-echant[1] / var_emp[1] + Z2)\n",
    "    Z3 = -0.5 * (-echant[2] / var_emp[2] + Z3)\n",
    "\n",
    "    return np.column_stack([Z1, Z2, Z3])\n"
   ]
  },
  {
   "cell_type": "markdown",
   "metadata": {},
   "source": [
    "Dans la **deuxième méthode**, nous présentons une fonction qui calcule les $ z_i $ à partir de leur expression théorique, dont le calcul est détaillé dans les diapositives. Les expressions finales sont :\n",
    "\n",
    "$$\n",
    "z_1 = \\frac{\\omega_1}{2\\sigma^2(\\omega_1)} + \\frac{1}{4} \\sum_{t=1}^{T} \\frac{1}{h_t} \\left(\\frac{ 1 - \\omega_{3}^{t-1}}{1 - \\omega_3} \\right) - \\frac{1}{4} \\sum_{t=1}^{T} \\frac{r_t^2}{h_t^2} \\left(\\frac{ 1 - \\omega_{3}^{t-1}}{1 - \\omega_3}\\right)\n",
    "$$\n",
    "\n",
    "$$\n",
    "z_2 = \\frac{\\omega_2}{2\\sigma^2(\\omega_2)} + \\frac{1}{4} \\sum_{t=2}^{T} \\frac{1}{h_t} \\left(\\sum_{i=1}^{t-1} \\omega_3^{t-1-i} \\cdot r_i^2 \\right) - \\frac{1}{4} \\sum_{t=2}^{T} \\frac{r_t^2}{h_t^2} \\left(\\sum_{i=1}^{t-1} \\omega_3^{t-1-i} \\cdot r_i^2 \\right)\n",
    "$$\n",
    "\n",
    "$$\n",
    "z_3 = \\frac{\\omega_3}{2\\sigma^2(\\omega_3)} + \\frac{1}{4} \\sum_{t=2}^{T} \\frac{1}{h_t} \\left(\\sum_{i=1}^{t-1} \\omega_3^{t-1-i} \\cdot r_i^2\\right) - \\frac{1}{4} \\sum_{t=2}^{T} \\frac{r_t^2}{h_t^2} \\left(\\sum_{i=1}^{t-1} \\omega_3^{t-1-i} \\cdot h_i^2 \\right)\n",
    "$$\n",
    "\n",
    "Ces expressions sont utilisées pour calculer les $ z_i $ dans la méthode ZV-MCMC. Elles sont obtenues en utilisant les expressions théoriques détaillées dans les diapositives.\n"
   ]
  },
  {
   "cell_type": "markdown",
   "metadata": {},
   "source": [
    "### deuxième méthode"
   ]
  },
  {
   "cell_type": "code",
   "execution_count": 24,
   "metadata": {},
   "outputs": [],
   "source": [
    "def calcul_z_2(omega_1, omega_2, omega_3, h, r, var_emp):\n",
    "    \"\"\"\n",
    "    Cette fonction calcule le vecteur des variables de contrôle suivant la première méthode.\n",
    "\n",
    "    Args:\n",
    "        omega_1 (array): échantillon du vecteur omega_1.\n",
    "        omega_2 (array): échantillon du vecteur omega_2.\n",
    "        omega_3 (array): échantillon du vecteur omega_3.\n",
    "        h (list) : échantillon des données de volatilité (h_t).\n",
    "        r (list) : données des rendements logarithmques (r_t).\n",
    "        var_emp (array): Liste des variances empiriques estimées pour omega_1, omega_2 et omega_3.\n",
    "\n",
    "    Returns:\n",
    "        array: une matrice où les variables z_1, z_2, et z_3 sont empilées en colonnes.\n",
    "    \"\"\"\n",
    "    T = len(h)\n",
    "    z_1 = omega_1 / (2 * var_emp[0] ** 2)\n",
    "    z_2 = omega_2 / (2 * var_emp[1] ** 2)\n",
    "    z_3 = omega_3 / (2 * var_emp[2] ** 2)\n",
    "    \n",
    "    for t in range(1,T):\n",
    "        dht_domega1 = (1 - omega_3 ** (t-1)) / (1 - omega_3)\n",
    "        z_1 += 0.25 * (1/h[t]) * dht_domega1 - int((r[t] ** 2 / h[t]**2)) * dht_domega1\n",
    "        dht_domega2 = np.array([np.sum([w_i**(t-2-i) * r[i]**2 for i in range(t-1)]) for w_i in omega_2])\n",
    "        z_2 += 0.25 * (1/h[t]) * dht_domega2 - r[t] ** 2 / h[t]**2 * dht_domega2\n",
    "        dht_domega3 = np.array([np.sum([w_i**(t-2-i) * h[i]**2 for i in range(t-1)]) for w_i in omega_3])\n",
    "        z_3 += 0.25 * (1/h[t]) * dht_domega3 - (r[t] ** 2 / h[t]) * dht_domega3\n",
    "    return np.column_stack([z_1, z_2, z_3])"
   ]
  },
  {
   "cell_type": "code",
   "execution_count": null,
   "metadata": {},
   "outputs": [],
   "source": [
    "# Chargement des variables\n",
    "with open('donnees.pkl', 'rb') as f:\n",
    "    loaded_data = pickle.load(f)\n",
    "\n",
    "y = loaded_data['y']\n",
    "r = loaded_data['r']\n",
    "h = loaded_data['h']\n",
    "echant_sim = loaded_data['echant_sim']\n",
    "echant_reel = loaded_data['echant_reel']"
   ]
  },
  {
   "cell_type": "code",
   "execution_count": 25,
   "metadata": {},
   "outputs": [
    {
     "ename": "NameError",
     "evalue": "name 'y' is not defined",
     "output_type": "error",
     "traceback": [
      "\u001b[0;31m---------------------------------------------------------------------------\u001b[0m",
      "\u001b[0;31mNameError\u001b[0m                                 Traceback (most recent call last)",
      "\u001b[1;32m/home/onyxia/Monte-Carlo-based-project-1/ZV-MCMC_ordre1_Q2.ipynb Cell 4\u001b[0m line \u001b[0;36m3\n\u001b[1;32m      <a href='vscode-notebook-cell://user-irebah-298885-0.user.lab.sspcloud.fr/home/onyxia/Monte-Carlo-based-project-1/ZV-MCMC_ordre1_Q2.ipynb#X10sdnNjb2RlLXJlbW90ZQ%3D%3D?line=0'>1</a>\u001b[0m \u001b[39m# Les variables de contrôle pour les données simulées\u001b[39;00m\n\u001b[0;32m----> <a href='vscode-notebook-cell://user-irebah-298885-0.user.lab.sspcloud.fr/home/onyxia/Monte-Carlo-based-project-1/ZV-MCMC_ordre1_Q2.ipynb#X10sdnNjb2RlLXJlbW90ZQ%3D%3D?line=2'>3</a>\u001b[0m var_sim \u001b[39m=\u001b[39m np\u001b[39m.\u001b[39mvar(y[:\u001b[39m100\u001b[39m], ddof\u001b[39m=\u001b[39m\u001b[39m0\u001b[39m)\n\u001b[1;32m      <a href='vscode-notebook-cell://user-irebah-298885-0.user.lab.sspcloud.fr/home/onyxia/Monte-Carlo-based-project-1/ZV-MCMC_ordre1_Q2.ipynb#X10sdnNjb2RlLXJlbW90ZQ%3D%3D?line=3'>4</a>\u001b[0m CV1_sim \u001b[39m=\u001b[39m calcul_z(echant_sim[:,\u001b[39m0\u001b[39m], echant_sim[:,\u001b[39m1\u001b[39m], echant_sim[:,\u001b[39m2\u001b[39m], h[:\u001b[39m100\u001b[39m], y[:\u001b[39m100\u001b[39m], var_sim)\n\u001b[1;32m      <a href='vscode-notebook-cell://user-irebah-298885-0.user.lab.sspcloud.fr/home/onyxia/Monte-Carlo-based-project-1/ZV-MCMC_ordre1_Q2.ipynb#X10sdnNjb2RlLXJlbW90ZQ%3D%3D?line=6'>7</a>\u001b[0m \u001b[39m# Les variables de contrôle pour les données réelles \u001b[39;00m\n",
      "\u001b[0;31mNameError\u001b[0m: name 'y' is not defined"
     ]
    }
   ],
   "source": [
    "# Les variables de contrôle pour les données simulées\n",
    "\n",
    "var_sim = np.var(y[:100], ddof=0)\n",
    "CV1_sim = calcul_z(echant_sim[:,0], echant_sim[:,1], echant_sim[:,2], h[:100], y[:100], var_sim)\n",
    "\n",
    "\n",
    "# Les variables de contrôle pour les données réelles \n",
    "\n",
    "omega1 = echant_reel[:,0].mean()\n",
    "omega2 = echant_reel[:,1].mean()\n",
    "omega3 = echant_reel[:,2].mean()\n",
    "\n",
    "h_reel = np.zeros(len(r[:100])) \n",
    "\n",
    "# On estime la variance conditionnelle des données réelles en estimant les omegas par les moyennes empiriques de l'échantillon généré\n",
    "for t in range(1,len(r[:100])) :\n",
    "    h_reel[t] = omega1 + omega2 * h_reel[t-1] + omega3 * r[t-1]**2\n",
    "\n",
    "var_reel = np.var(r[:100], ddof=0)\n",
    "CV1_reel = calcul_z(echant_reel[:,0], echant_reel[:,1], echant_reel[:,2], h_reel, r[:100], var_reel)"
   ]
  },
  {
   "cell_type": "code",
   "execution_count": null,
   "metadata": {},
   "outputs": [],
   "source": [
    "def enlever_outliers(data):\n",
    "    Q1 = np.percentile(data, 25)\n",
    "    Q3 = np.percentile(data, 75)\n",
    "\n",
    "    IQR = Q3 - Q1\n",
    "\n",
    "    # Définition des limites\n",
    "    limite_inferieure = Q1 - 10 * IQR\n",
    "    limite_superieure = Q3 + 10 * IQR\n",
    "    donnees_sans_outliers = np.copy(data)\n",
    "    for i in range(1, len(data)):\n",
    "        if (data[i] < limite_inferieure).any() or (data[i] > limite_superieure).any():\n",
    "            donnees_sans_outliers[i] = donnees_sans_outliers[i - 1]\n",
    "    return donnees_sans_outliers"
   ]
  },
  {
   "cell_type": "code",
   "execution_count": null,
   "metadata": {},
   "outputs": [],
   "source": [
    "\n",
    "\n",
    "def combi_omega(k, echant_sim, CV1_sim, CV1_nv_sim):\n",
    "\n",
    "    model = sm.OLS(echant_sim[:,k], CV1_sim) # CV1_sim = sm.add_constant(CV1_sim)\n",
    "    results = model.fit(cov_type='HC3')\n",
    "    coeff_opt = results.params # CV1_nv_sim1 = np.insert(CV1_nv_sim, 0, 1, axis=1)\n",
    "    combi = np.dot(coeff_opt, CV1_nv_sim.transpose())\n",
    "    print(results.summary())\n",
    "    return combi\n",
    "\n",
    "\n",
    "# ------------------------------------- Omega_1----------------------------------------------------------------\n",
    "\n",
    "combi_omega1 = combi_omega(0, echant_sim, CV1_sim, CV1_nv_sim)\n",
    "omega_tilde_1 = omega_nv_sim[:,0] - combi_omega1\n",
    "omega_tilde_1ss = enlever_outliers(omega_tilde_1)\n",
    "\n",
    "# ------------------------------------- Omega_2----------------------------------------------------------------\n",
    "\n",
    "combi_omega2 = combi_omega(1, echant_sim, CV1_sim, CV1_nv_sim)\n",
    "omega_tilde_2 = omega_nv_sim[:,1] - combi_omega2\n",
    "omega_tilde_2ss = enlever_outliers(omega_tilde_2)\n",
    "\n",
    "# ------------------------------------- Omega_3----------------------------------------------------------------\n",
    "\n",
    "combi_omega3 = combi_omega(2, echant_sim, CV1_sim, CV1_nv_sim)\n",
    "omega_tilde_3 = omega_nv_sim[:,2] - combi_omega3\n",
    "omega_tilde_3ss = enlever_outliers(omega_tilde_3)\n"
   ]
  }
 ],
 "metadata": {
  "kernelspec": {
   "display_name": "Python 3",
   "language": "python",
   "name": "python3"
  },
  "language_info": {
   "codemirror_mode": {
    "name": "ipython",
    "version": 3
   },
   "file_extension": ".py",
   "mimetype": "text/x-python",
   "name": "python",
   "nbconvert_exporter": "python",
   "pygments_lexer": "ipython3",
   "version": "3.10.12"
  }
 },
 "nbformat": 4,
 "nbformat_minor": 2
}
